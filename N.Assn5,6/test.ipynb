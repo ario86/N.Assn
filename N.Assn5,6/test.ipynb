{
 "cells": [
  {
   "cell_type": "code",
   "execution_count": 7,
   "metadata": {},
   "outputs": [
    {
     "name": "stdout",
     "output_type": "stream",
     "text": [
      "2\n"
     ]
    }
   ],
   "source": [
    "#   5) 1) occurence of USA\n",
    "\n",
    "x = \"Welcome to USA. USA awesome isn't it?\"\n",
    "\n",
    "word = \"USA\"\n",
    "count= x.count(word, 0, len(x)) #range is 0 to length of sentence\n",
    "print(count)\n",
    "            "
   ]
  },
  {
   "cell_type": "code",
   "execution_count": null,
   "metadata": {},
   "outputs": [],
   "source": [
    "#  5) 2)  find sum and avg of nos from a string ignoring other characters\n",
    "\n",
    "x=\"abcd29@efg#8496\"\n",
    "\n",
    "\n",
    "sum=0\n",
    "for i in x:\n",
    "    sum=sum+i.isnumeric()\n",
    "    print(sum)\n",
    "    \n",
    "    '''\n",
    "    couldn't solve\n",
    "    '''\n"
   ]
  },
  {
   "cell_type": "code",
   "execution_count": null,
   "metadata": {},
   "outputs": [],
   "source": [
    "#index of 'are'\n",
    "\n",
    "x= \"As you know, the stings are widely used to hold textual data. To perform any programming tasks in Python, a good understanding of string manipulations are necessary\"\n",
    "\n",
    "\n",
    "a = x.rindex('are')  #r for right side\n",
    "print(a)"
   ]
  },
  {
   "cell_type": "code",
   "execution_count": null,
   "metadata": {},
   "outputs": [],
   "source": []
  }
 ],
 "metadata": {
  "kernelspec": {
   "display_name": "Python 3.10.4 64-bit",
   "language": "python",
   "name": "python3"
  },
  "language_info": {
   "codemirror_mode": {
    "name": "ipython",
    "version": 3
   },
   "file_extension": ".py",
   "mimetype": "text/x-python",
   "name": "python",
   "nbconvert_exporter": "python",
   "pygments_lexer": "ipython3",
   "version": "3.10.4"
  },
  "orig_nbformat": 4,
  "vscode": {
   "interpreter": {
    "hash": "632087ff1fdcfd91a22e9ff8fd546439fa22ece152f6097ed2ec8f90b1aeea38"
   }
  }
 },
 "nbformat": 4,
 "nbformat_minor": 2
}
