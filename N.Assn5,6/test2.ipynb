{
 "cells": [
  {
   "cell_type": "code",
   "execution_count": null,
   "metadata": {},
   "outputs": [],
   "source": [
    "#  6)1) remove empty strings from list of strings\n",
    "\n",
    "x=[\"abc\", \"\", \"hello\", \"\", \"do\"]\n",
    "\n",
    "\n",
    "while (\"\" in x):\n",
    "    x.remove(\"\")  #using remove for deletion\n",
    "\n",
    "print(x)\n"
   ]
  },
  {
   "cell_type": "code",
   "execution_count": null,
   "metadata": {},
   "outputs": [],
   "source": [
    "#  6)1)  largest word from string\n",
    "\n",
    "\n",
    "sen = input(\"enter sentence: \")\n",
    "largest = max(sen.split(), key=len)\n",
    "print(\"largest word: \", largest)\n"
   ]
  },
  {
   "cell_type": "code",
   "execution_count": null,
   "metadata": {},
   "outputs": [],
   "source": [
    "# 6)3) string sort\n",
    "\n",
    "\n",
    "x= \"pytHOnloBBy\"\n",
    "for i in range(0, len(x)):\n",
    "    l=x[i]\n",
    "    l.sort()\n",
    "    for i in l:\n",
    "        print(i, end=\" \")"
   ]
  },
  {
   "cell_type": "code",
   "execution_count": null,
   "metadata": {},
   "outputs": [],
   "source": [
    "# 6)4)  search word in a string\n",
    "\n",
    "str= input(\"enter sentence: \")\n",
    "word=input(\"enter word for search: \")\n",
    "for word in str:\n",
    "    print(word, \"exists in string\")\n",
    "else:\n",
    "    print(word, \" not exists in string\")"
   ]
  },
  {
   "cell_type": "code",
   "execution_count": null,
   "metadata": {},
   "outputs": [],
   "source": [
    "# 6)5)  remove duplicates from a string\n",
    "\n",
    "\n",
    "str=\"pythonlobby\"\n",
    "str1=\"\"\n",
    "for char in str:\n",
    "    if char not in str1:\n",
    "        str1=str1+char  #concatenation occurs in string\n",
    "print(str1)\n",
    "\n"
   ]
  }
 ],
 "metadata": {
  "kernelspec": {
   "display_name": "Python 3.10.4 64-bit",
   "language": "python",
   "name": "python3"
  },
  "language_info": {
   "codemirror_mode": {
    "name": "ipython",
    "version": 3
   },
   "file_extension": ".py",
   "mimetype": "text/x-python",
   "name": "python",
   "nbconvert_exporter": "python",
   "pygments_lexer": "ipython3",
   "version": "3.10.4"
  },
  "orig_nbformat": 4,
  "vscode": {
   "interpreter": {
    "hash": "632087ff1fdcfd91a22e9ff8fd546439fa22ece152f6097ed2ec8f90b1aeea38"
   }
  }
 },
 "nbformat": 4,
 "nbformat_minor": 2
}
