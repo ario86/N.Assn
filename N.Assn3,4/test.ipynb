{
 "cells": [
  {
   "cell_type": "code",
   "execution_count": 2,
   "metadata": {},
   "outputs": [
    {
     "name": "stdout",
     "output_type": "stream",
     "text": [
      "5\n",
      "the first highest: A\n"
     ]
    }
   ],
   "source": [
    "#  3) 1)   highests and lowests\n",
    "\n",
    "\n",
    "x = \"AAAAABBBBCCCDDE\"\n",
    "i= input(\" enter character you want to count: \")\n",
    "c= x.count(i)\n",
    "print(c)\n",
    "\n",
    "if c==5:\n",
    "    print(\"the first highest: A\")\n",
    "    \n",
    "elif c==1:\n",
    "    print(\"the first lowest: E\")\n",
    "    \n",
    "elif c==4:\n",
    "    print(\"the second highest: B\")\n",
    "    \n",
    "elif c==2:\n",
    "    print(\"the second lowest: D\")\n",
    "    \n",
    "elif c==3:\n",
    "    print(\"the third highest and the third lowest: C\")\n",
    "  \n",
    "\n"
   ]
  },
  {
   "cell_type": "code",
   "execution_count": 5,
   "metadata": {},
   "outputs": [
    {
     "name": "stdout",
     "output_type": "stream",
     "text": [
      "ABCDE\n",
      "EBCDA\n"
     ]
    }
   ],
   "source": [
    "# 3) 2)  to reverse string\n",
    "\n",
    "x=\"ABCDE\"\n",
    "print(x)\n",
    "\n",
    "l=list(x)\n",
    "\n",
    "a = l[0]\n",
    "l[0] = l[4]\n",
    "l[4]=a\n",
    "print(''.join(l))\n"
   ]
  },
  {
   "cell_type": "code",
   "execution_count": 6,
   "metadata": {},
   "outputs": [
    {
     "name": "stdout",
     "output_type": "stream",
     "text": [
      "dasdasdasd\n",
      "not palindrome\n"
     ]
    }
   ],
   "source": [
    "# 4)  1) to check string is palindrome\n",
    "\n",
    "a= input(\"enter string: \")\n",
    "a1= print(a[::-1]) #slicing & reversing\n",
    "\n",
    "if a1==a:\n",
    "    print(\"palindrome\")\n",
    "    \n",
    "else:\n",
    "    print(\"not palindrome\")\n",
    "\n"
   ]
  },
  {
   "cell_type": "code",
   "execution_count": null,
   "metadata": {},
   "outputs": [],
   "source": [
    "# 4) 2)   sum of odd nos < 10\n",
    "\n",
    "n=int(input(\"enter num: \"))\n",
    "sum=0\n",
    "for i in range(0,10):\n",
    "    if i%2!=0:\n",
    "        sum=sum+1\n",
    "print(sum)"
   ]
  },
  {
   "cell_type": "code",
   "execution_count": 8,
   "metadata": {},
   "outputs": [
    {
     "name": "stdout",
     "output_type": "stream",
     "text": [
      "is prime\n"
     ]
    }
   ],
   "source": [
    "# 4) 3)   prime no.\n",
    "\n",
    "\n",
    "n=int(input(\"enter num: \"))\n",
    "\n",
    "for i in range(2,n):\n",
    "    if n%i ==0:\n",
    "        print(\"not prime \")\n",
    "        break\n",
    "    \n",
    "    else:\n",
    "        print(\"is prime\")\n",
    "        "
   ]
  },
  {
   "cell_type": "code",
   "execution_count": 12,
   "metadata": {},
   "outputs": [
    {
     "name": "stdout",
     "output_type": "stream",
     "text": [
      "num not divisible by 20, only divisible by 5\n",
      "num divisible by 5 and also by 20\n",
      "num not divisible by 20, only divisible by 5\n",
      "num divisible by 5 and also by 20\n",
      "num not divisible by 20, only divisible by 5\n",
      "num divisible by 5 and also by 20\n",
      "num not divisible by 20, only divisible by 5\n",
      "num divisible by 5 and also by 20\n",
      "num not divisible by 20, only divisible by 5\n",
      "num divisible by 5 and also by 20\n",
      "num divisible by 5 and also by 20\n",
      "num divisible by 5 and also by 20\n",
      "num divisible by 5 and also by 20\n",
      "num divisible by 5 and also by 20\n",
      "num divisible by 5 and also by 20\n",
      "num divisible by 5 and also by 20\n",
      "num divisible by 5 and also by 20\n",
      "num divisible by 5 and also by 20\n",
      "num divisible by 5 and also by 20\n"
     ]
    }
   ],
   "source": [
    "#  4) 4)   to check if divisible by 5 then 20\n",
    "\n",
    "\n",
    "l=[10,20,30,40,50,60,70,80,90,100,200,300,400,500,600,700,800,900,1000]\n",
    "\n",
    "\n",
    "\n",
    "for i in l:\n",
    "\n",
    "    if (i%5 ==0) and (i%20==0):\n",
    "        print(\"num divisible by 5 and also by 20\")\n",
    "        \n",
    "    elif i%5==0:\n",
    "        print(\"num not divisible by 20, only divisible by 5\")\n",
    "    \n",
    "\n",
    "        \n",
    "\n",
    "            \n",
    "        \n",
    "        \n",
    "\n",
    "\n"
   ]
  }
 ],
 "metadata": {
  "kernelspec": {
   "display_name": "Python 3.10.4 64-bit",
   "language": "python",
   "name": "python3"
  },
  "language_info": {
   "codemirror_mode": {
    "name": "ipython",
    "version": 3
   },
   "file_extension": ".py",
   "mimetype": "text/x-python",
   "name": "python",
   "nbconvert_exporter": "python",
   "pygments_lexer": "ipython3",
   "version": "3.10.4"
  },
  "orig_nbformat": 4,
  "vscode": {
   "interpreter": {
    "hash": "632087ff1fdcfd91a22e9ff8fd546439fa22ece152f6097ed2ec8f90b1aeea38"
   }
  }
 },
 "nbformat": 4,
 "nbformat_minor": 2
}
