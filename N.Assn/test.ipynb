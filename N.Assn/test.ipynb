{
 "cells": [
  {
   "cell_type": "code",
   "execution_count": null,
   "metadata": {},
   "outputs": [],
   "source": [
    "#the Fibonacci series between 0 to 50\n",
    "\n",
    "num=int(input(\"enter num: \"))\n",
    "\n",
    "a=0\n",
    "b=1\n",
    "\n",
    "for i in range(0,50):\n",
    "    if (i<=1):\n",
    "        fib = i\n",
    "        \n",
    "    else:\n",
    "        fib = a+b\n",
    "        a=b\n",
    "        b=fib\n",
    "    print(fib)\n",
    "        \n",
    "        \n",
    "\n"
   ]
  },
  {
   "cell_type": "code",
   "execution_count": 2,
   "metadata": {},
   "outputs": [
    {
     "name": "stdout",
     "output_type": "stream",
     "text": [
      "olleH\n"
     ]
    }
   ],
   "source": [
    "#reverse word\n",
    "\n",
    "\n",
    "str = \"Hello\"[::-1]\n",
    "print(str)"
   ]
  },
  {
   "cell_type": "code",
   "execution_count": null,
   "metadata": {},
   "outputs": [],
   "source": [
    "#count even and odd numbers\n",
    "\n",
    "\n",
    "nos = (1,2,3,4,5,6,7,8,9)\n",
    "\n",
    "count_even = 0\n",
    "count_odd = 0\n",
    "\n",
    "for i in nos:\n",
    "    if i%2 == 0:\n",
    "        count_even +=1\n",
    "        \n",
    "    \n",
    "    else:\n",
    "        count_odd += 1\n",
    "        \n",
    "print(\"even nos are: \", count_even)\n",
    "print(\"odd nos are: \", count_odd)"
   ]
  },
  {
   "cell_type": "code",
   "execution_count": null,
   "metadata": {},
   "outputs": [],
   "source": [
    "#list sort\n",
    "\n",
    "\n",
    "\n",
    "def sort(list):\n",
    "\n",
    "\t\n",
    "\tlist.sort(key = lambda x: x[-1])\n",
    "\treturn list\n",
    "\n",
    "\n",
    "tup = [(2, 5), (1, 2), (4, 4), (2, 3), (2, 1)]\n",
    "\n",
    "\n",
    "print(sort(list))\n",
    "\n",
    "\n"
   ]
  },
  {
   "cell_type": "code",
   "execution_count": null,
   "metadata": {},
   "outputs": [],
   "source": []
  }
 ],
 "metadata": {
  "kernelspec": {
   "display_name": "Python 3.10.4 64-bit",
   "language": "python",
   "name": "python3"
  },
  "language_info": {
   "codemirror_mode": {
    "name": "ipython",
    "version": 3
   },
   "file_extension": ".py",
   "mimetype": "text/x-python",
   "name": "python",
   "nbconvert_exporter": "python",
   "pygments_lexer": "ipython3",
   "version": "3.10.4"
  },
  "orig_nbformat": 4,
  "vscode": {
   "interpreter": {
    "hash": "632087ff1fdcfd91a22e9ff8fd546439fa22ece152f6097ed2ec8f90b1aeea38"
   }
  }
 },
 "nbformat": 4,
 "nbformat_minor": 2
}
